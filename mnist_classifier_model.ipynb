{
 "cells": [
  {
   "cell_type": "markdown",
   "metadata": {},
   "source": [
    "## MNIST neuron network model"
   ]
  },
  {
   "cell_type": "markdown",
   "metadata": {},
   "source": [
    "### Install modules and libraries"
   ]
  },
  {
   "cell_type": "code",
   "execution_count": 77,
   "metadata": {},
   "outputs": [],
   "source": [
    "import numpy \n",
    "import pandas \n",
    "from  matplotlib import pyplot \n",
    "\n",
    "from sklearn.utils import shuffle\n",
    "from keras import models\n",
    "from keras import layers\n",
    "from keras.datasets import mnist \n",
    "from keras.utils import to_categorical\n",
    "from keras.models import load_model"
   ]
  },
  {
   "cell_type": "markdown",
   "metadata": {},
   "source": [
    "#### Preprocessing and data analysis"
   ]
  },
  {
   "cell_type": "code",
   "execution_count": 78,
   "metadata": {},
   "outputs": [],
   "source": [
    "(features_train, target_train), (features_test, target_test) = mnist.load_data()\n",
    "\n",
    "features_train, target_train = shuffle(features_train, target_train, random_state=1)\n",
    "features_test, target_test = shuffle(features_test, target_test, random_state=1)\n"
   ]
  },
  {
   "cell_type": "code",
   "execution_count": 79,
   "metadata": {},
   "outputs": [
    {
     "name": "stdout",
     "output_type": "stream",
     "text": [
      "(60000, 28, 28) (10000, 28, 28)\n",
      "(60000,)\n"
     ]
    }
   ],
   "source": [
    "print(features_train.shape, features_test.shape)\n",
    "print(target_train.shape)"
   ]
  },
  {
   "cell_type": "code",
   "execution_count": 80,
   "metadata": {},
   "outputs": [],
   "source": [
    "def show_number_by_index(index:int = 0, features: numpy.ndarray = None,targets: numpy.ndarray = None):\n",
    "    '''\n",
    "    this function show numbers's image by index of this number in set\n",
    "    '''\n",
    "    pyplot.imshow(features[index], cmap='gray')\n",
    "    print(f\"label is {targets[index]}\")"
   ]
  },
  {
   "cell_type": "code",
   "execution_count": 81,
   "metadata": {},
   "outputs": [
    {
     "name": "stdout",
     "output_type": "stream",
     "text": [
      "label is 1\n"
     ]
    },
    {
     "data": {
      "image/png": "[encoded data removed]",
      "text/plain": [
       "<Figure size 640x480 with 1 Axes>"
      ]
     },
     "metadata": {},
     "output_type": "display_data"
    }
   ],
   "source": [
    "# showing some number for compare later\n",
    "show_number_by_index(index=17, \n",
    "                    features= features_train, \n",
    "                    targets= target_train)"
   ]
  },
  {
   "cell_type": "code",
   "execution_count": 82,
   "metadata": {},
   "outputs": [],
   "source": [
    "def normalize_images(images):\n",
    "    '''\n",
    "    this function converting images uint8 -> float32(from 0 to 1)\n",
    "    '''\n",
    "    return numpy.float32(images) / 255\n",
    "\n",
    "def preprocessing_pipeline(features: numpy.ndarray = None, tagrets: numpy.ndarray = None):\n",
    "    '''\n",
    "    this function processes the data on which the network will be trained \n",
    "    and which the model will receive for prediction\n",
    "    '''\n",
    "    normalized_features = normalize_images(features)\n",
    "    flatten_normalized_features = normalized_features.reshape((-1, 28 * 28))\n",
    "    categorical_targets = to_categorical(tagrets)\n",
    "\n",
    "    return flatten_normalized_features, categorical_targets"
   ]
  },
  {
   "cell_type": "code",
   "execution_count": 83,
   "metadata": {},
   "outputs": [],
   "source": [
    "# processes test and train data before fit the model \n",
    "ready_features_train, ready_targets_train = preprocessing_pipeline(features=features_train, tagrets=target_train)\n",
    "ready_features_test, ready_targets_test = preprocessing_pipeline(features=features_test, tagrets=target_test)"
   ]
  },
  {
   "cell_type": "markdown",
   "metadata": {},
   "source": [
    "#### Create and train model"
   ]
  },
  {
   "cell_type": "code",
   "execution_count": 84,
   "metadata": {},
   "outputs": [],
   "source": [
    "# network's parameters\n",
    "epochs = 20\n",
    "batch_size = 256\n",
    "activation = \"relu\"\n",
    "optimizer = \"Adam\""
   ]
  },
  {
   "cell_type": "code",
   "execution_count": 85,
   "metadata": {},
   "outputs": [],
   "source": [
    "model = models.Sequential()\n",
    "\n",
    "model.add(layer=layers.Input(shape=(28 * 28,)))\n",
    "model.add(layer=layers.Dense(64, activation=activation))\n",
    "model.add(layer=layers.Dense(32, activation=activation))\n",
    "model.add(layer=layers.Dense(16, activation=activation))\n",
    "model.add(layer=layers.Dense(10, activation=activation))\n",
    "model.add(layer=layers.Softmax())\n",
    "\n",
    "model.compile(loss='categorical_crossentropy', \n",
    "              optimizer=optimizer, \n",
    "              metrics=['accuracy'])\n",
    "\n",
    "history = model.fit(ready_features_train, ready_targets_train,\n",
    "                    epochs=epochs,\n",
    "                    batch_size=batch_size,\n",
    "                    verbose=0,\n",
    "                    validation_data=(ready_features_test, ready_targets_test))\n"
   ]
  },
  {
   "cell_type": "markdown",
   "metadata": {},
   "source": [
    "#### Analysis of model results"
   ]
  },
  {
   "cell_type": "code",
   "execution_count": 86,
   "metadata": {},
   "outputs": [
    {
     "data": {
      "text/html": [
       "<div>\n",
       "<style scoped>\n",
       "    .dataframe tbody tr th:only-of-type {\n",
       "        vertical-align: middle;\n",
       "    }\n",
       "\n",
       "    .dataframe tbody tr th {\n",
       "        vertical-align: top;\n",
       "    }\n",
       "\n",
       "    .dataframe thead th {\n",
       "        text-align: right;\n",
       "    }\n",
       "</style>\n",
       "<table border=\"1\" class=\"dataframe\">\n",
       "  <thead>\n",
       "    <tr style=\"text-align: right;\">\n",
       "      <th></th>\n",
       "      <th>accuracy</th>\n",
       "      <th>loss</th>\n",
       "    </tr>\n",
       "    <tr>\n",
       "      <th>epoch</th>\n",
       "      <th></th>\n",
       "      <th></th>\n",
       "    </tr>\n",
       "  </thead>\n",
       "  <tbody>\n",
       "    <tr>\n",
       "      <th>14</th>\n",
       "      <td>0.984550</td>\n",
       "      <td>0.051625</td>\n",
       "    </tr>\n",
       "    <tr>\n",
       "      <th>15</th>\n",
       "      <td>0.984983</td>\n",
       "      <td>0.049031</td>\n",
       "    </tr>\n",
       "    <tr>\n",
       "      <th>16</th>\n",
       "      <td>0.987467</td>\n",
       "      <td>0.042825</td>\n",
       "    </tr>\n",
       "    <tr>\n",
       "      <th>17</th>\n",
       "      <td>0.987767</td>\n",
       "      <td>0.041360</td>\n",
       "    </tr>\n",
       "    <tr>\n",
       "      <th>18</th>\n",
       "      <td>0.989000</td>\n",
       "      <td>0.036833</td>\n",
       "    </tr>\n",
       "    <tr>\n",
       "      <th>19</th>\n",
       "      <td>0.989933</td>\n",
       "      <td>0.034689</td>\n",
       "    </tr>\n",
       "  </tbody>\n",
       "</table>\n",
       "</div>"
      ],
      "text/plain": [
       "       accuracy      loss\n",
       "epoch                    \n",
       "14     0.984550  0.051625\n",
       "15     0.984983  0.049031\n",
       "16     0.987467  0.042825\n",
       "17     0.987767  0.041360\n",
       "18     0.989000  0.036833\n",
       "19     0.989933  0.034689"
      ]
     },
     "execution_count": 86,
     "metadata": {},
     "output_type": "execute_result"
    }
   ],
   "source": [
    "model_loss = history.history['loss']\n",
    "model_accuracy = history.history['accuracy']\n",
    "\n",
    "model_results_df = pandas.DataFrame({'accuracy': model_accuracy,\n",
    "                                     'loss':model_loss}).rename_axis('epoch')\n",
    "model_results_df[14:]"
   ]
  },
  {
   "cell_type": "code",
   "execution_count": 92,
   "metadata": {},
   "outputs": [],
   "source": [
    "#save model\n",
    "is_save_model = True\n",
    "\n",
    "if is_save_model:\n",
    "    model.save(\"mnist_classifier.keras\")"
   ]
  },
  {
   "cell_type": "code",
   "execution_count": 88,
   "metadata": {},
   "outputs": [
    {
     "data": {
      "image/png": "[encoded data removed]",
      "text/plain": [
       "<Figure size 1600x800 with 1 Axes>"
      ]
     },
     "metadata": {},
     "output_type": "display_data"
    }
   ],
   "source": [
    "# display a graph to evaluate how the main parameters changed during the training process\n",
    "epochs = range(1, len(model_loss) + 1)\n",
    "\n",
    "pyplot.figure(figsize=(16, 8))\n",
    "\n",
    "pyplot.plot(epochs, model_loss, label='Loss', linewidth=2)\n",
    "pyplot.plot(epochs, model_accuracy, label='Accuracy',linewidth=2)\n",
    "\n",
    "pyplot.title('Loss and Accuracy')\n",
    "pyplot.xlabel('Epochs')\n",
    "pyplot.ylabel('Loss / Accuracy')\n",
    "\n",
    "pyplot.legend()\n",
    "pyplot.show()"
   ]
  },
  {
   "cell_type": "markdown",
   "metadata": {},
   "source": [
    "#### Using the model"
   ]
  },
  {
   "cell_type": "code",
   "execution_count": 89,
   "metadata": {},
   "outputs": [],
   "source": [
    "'''\n",
    "Instances of this class classify images of numbers and return values. \n",
    "The trained model is taken as an initializing parameter, \n",
    "and a 28 by 28 array is passed to the prediction function (classify_number_by_image)\n",
    "'''\n",
    "class mnist_classifier:\n",
    "    model = None\n",
    "    def __init__(self, model) -> None:\n",
    "        self.model = model\n",
    "\n",
    "    def normalize_images(self,images):\n",
    "        '''\n",
    "        this function converting images uint8 -> float32(from 0 to 1)\n",
    "        '''\n",
    "        return numpy.float32(images) / 255\n",
    "\n",
    "    def preprocessing_image(self,features: numpy.ndarray = None):\n",
    "        '''\n",
    "        this function processes the data on which the network will be trained \n",
    "        and which the model will receive for prediction\n",
    "        '''\n",
    "        normalized_features = normalize_images(features)\n",
    "        flatten_normalized_features = normalized_features.reshape((-1, 28 * 28))\n",
    "\n",
    "        return flatten_normalized_features\n",
    "\n",
    "    def classify_number_by_image(self, number_image):\n",
    "        '''\n",
    "        this function returns the number that is in the image\n",
    "        '''\n",
    "        processed_image = self.preprocessing_image(features=number_image)\n",
    "\n",
    "        predictions = self.model.predict(processed_image.reshape(1,-1))\n",
    "\n",
    "        return numpy.argmax(predictions)"
   ]
  },
  {
   "cell_type": "code",
   "execution_count": 93,
   "metadata": {},
   "outputs": [],
   "source": [
    "# load ready model\n",
    "model = load_model(\"mnist_classifier.keras\")\n",
    "classifier = mnist_classifier(model)"
   ]
  },
  {
   "cell_type": "code",
   "execution_count": 96,
   "metadata": {},
   "outputs": [
    {
     "name": "stdout",
     "output_type": "stream",
     "text": [
      "1/1 [==============================] - 0s 14ms/step\n",
      "prediction is 6\n",
      "label is 6\n"
     ]
    },
    {
     "data": {
      "image/png": "[encoded data removed]",
      "text/plain": [
       "<Figure size 640x480 with 1 Axes>"
      ]
     },
     "metadata": {},
     "output_type": "display_data"
    }
   ],
   "source": [
    "# work check\n",
    "some_index = numpy.random.randint(60000)\n",
    "\n",
    "predicted_number = classifier.classify_number_by_image(number_image=features_train[some_index])\n",
    "print(f'prediction is {predicted_number}')\n",
    "\n",
    "show_number_by_index(index=some_index, \n",
    "                    features= features_train, \n",
    "                    targets= target_train)"
   ]
  }
 ],
 "metadata": {
  "kernelspec": {
   "display_name": "Python 3",
   "language": "python",
   "name": "python3"
  },
  "language_info": {
   "codemirror_mode": {
    "name": "ipython",
    "version": 3
   },
   "file_extension": ".py",
   "mimetype": "text/x-python",
   "name": "python",
   "nbconvert_exporter": "python",
   "pygments_lexer": "ipython3",
   "version": "3.11.7"
  }
 },
 "nbformat": 4,
 "nbformat_minor": 2
}
